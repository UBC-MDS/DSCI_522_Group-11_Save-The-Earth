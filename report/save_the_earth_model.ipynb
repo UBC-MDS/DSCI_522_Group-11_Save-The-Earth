{
 "cells": [
  {
   "cell_type": "markdown",
   "metadata": {},
   "source": [
    "# Predicting CO2 Emission Per Capita for a country using energy consumptions\n",
    "\n",
    "by Tony Shum, Jing Wen, Aishwarya Nadimpally, Weilin Han"
   ]
  },
  {
   "cell_type": "code",
   "execution_count": 1,
   "metadata": {},
   "outputs": [],
   "source": [
    "# Initialize packages\n",
    "import pandas as pd\n",
    "import altair as alt\n",
    "import numpy as np\n",
    "from sklearn.model_selection import train_test_split\n",
    "from sklearn.preprocessing import StandardScaler, OneHotEncoder\n",
    "from sklearn.compose import make_column_transformer\n",
    "from sklearn.pipeline import make_pipeline\n",
    "from sklearn.dummy import DummyRegressor\n",
    "from sklearn.linear_model import Ridge\n",
    "from sklearn.neighbors import KNeighborsRegressor\n",
    "from sklearn.svm import SVR\n",
    "from scipy.stats import randint\n",
    "from sklearn.model_selection import RandomizedSearchCV\n",
    "from sklearn.model_selection import cross_validate\n",
    "from sklearn.metrics import make_scorer,mean_squared_error,r2_score\n",
    "import matplotlib.pyplot as plt"
   ]
  },
  {
   "cell_type": "code",
   "execution_count": 2,
   "metadata": {},
   "outputs": [],
   "source": [
    "# Import the functions from the src folder\n",
    "import sys\n",
    "import os\n",
    "\n",
    "# sys.path.append(os.path.join(os.path.dirname(__file__), '..'))\n",
    "sys.path.append(os.path.join('..'))\n",
    "from src.create_scatter_plot import create_scatter_plot\n",
    "from src.data_preprocessor import data_preprocessor\n",
    "from src.read_melt_merge import read_melt_merge\n",
    "from src.scoring_metrics import scoring_metrics"
   ]
  },
  {
   "cell_type": "markdown",
   "metadata": {},
   "source": [
    "# Summary"
   ]
  },
  {
   "cell_type": "markdown",
   "metadata": {},
   "source": [
    "Here we attempt to build a prediction model using the k-nearest neighbours algorithm which can use energy consumption and energy generation measurements to predict CO2 emission of certain country of next year. Our final prediction model perform pretty well on unseen test dataset, with $\\text{R}^2$ of 0.975 and an overall accuracy calculated to be 0.976. However, the model predict CO2 emission by finding the existing cases in the training data set which is most similiar to unseen data, thus, if there is a case in unseen data set of which measurements are beyond the ranges in training data set (ie. massive increase of energy usage or energy efficiency increase or new type of clean energy), then the prediciton might not be accurate, thus we recomment continuing study to improve this prediction model."
   ]
  },
  {
   "cell_type": "markdown",
   "metadata": {},
   "source": [
    "# Introduction\n"
   ]
  },
  {
   "cell_type": "markdown",
   "metadata": {
    "tags": []
   },
   "source": [
    "According to the intergovernmental panel on climate change (IPCC), CO2 emissions are a leading contributor to global warming and climate change (IPCC, 2014). Understanding the correlation between consumption of different types of energy and CO2 emission is critical for formulating policies aimed at reducing emissions and mitigating climate change impacts (IPCC, 2018).\n",
    "\n",
    "Our project aims to estimate a machine learning model to use energy consumptions per capita to predict CO2 Emission per capita of a country. Our model can be a powerful tool for raising public awareness of the impact of energy consumption on CO2 emission and international agreements on emission reductions. We are hoping that our findings will encourage sustainable behavior, such as reducing energy consumption or opting for green energy alternatives (International Energy Agency, 2018). \n"
   ]
  },
  {
   "cell_type": "markdown",
   "metadata": {},
   "source": [
    "# Methods"
   ]
  },
  {
   "cell_type": "markdown",
   "metadata": {
    "deletable": false
   },
   "source": [
    "<!-- BEGIN QUESTION -->\n",
    "\n",
    "\n",
    "## Data\n",
    "\n",
    "The data set that was used in this project is from World Bank via GAPMINDER.ORG, which is an independent Swedish foundation with no political, religious or economic affiliations and the link can be found https://www.gapminder.org/\n",
    "\n",
    "\n",
    "##### Credential\n",
    "    \n",
    "FREE DATA FROM WORLD BANK VIA GAPMINDER.ORG, CC-BY LICENSE"
   ]
  },
  {
   "cell_type": "markdown",
   "metadata": {},
   "source": [
    "## Analysis\n",
    "\n",
    "Data was split with 80% partitioned as training data and 20% as test data. For model building, we have chosen KNeighborsRegressor (KNN) from DummyRegressor,Ridge, SVR, as we have the highest $\\text{R}^2$ score for KNN. The hyperparameter $K$ was chosen using 10-fold cross validation with $R^2$ as the regression metric."
   ]
  },
  {
   "cell_type": "markdown",
   "metadata": {},
   "source": [
    "# Results & Discussions"
   ]
  },
  {
   "cell_type": "markdown",
   "metadata": {},
   "source": [
    "Our prediction model performed well on test data, with a final overall $\\text{R}^2$ of 0.976, which is promising for predicting a country's CO2 emission per capita given the energy generation and consumption data. Our model has small deviation from residual to the ground truth, as we have RMSE of 1.34 meaning that our model is relatively accurate in terms of CO2 emission prediction."
   ]
  },
  {
   "cell_type": "markdown",
   "metadata": {},
   "source": [
    "#### Exploratory Data Analysis (EDA)"
   ]
  },
  {
   "cell_type": "markdown",
   "metadata": {},
   "source": [
    "From our data, we have no NA or missing data, but need to change the data type of No. 3 column to No. 7 column to float. We also need need to clean up data and unify the units, such change 20u to 20e-6 and 15.1k to 15.1e3."
   ]
  },
  {
   "cell_type": "markdown",
   "metadata": {},
   "source": [
    "The Spearmean's rank correlation test below revealed some potential correlations between the following columns: co2_e vs elec_c, co2_e vs oil_c, elec_c vs oil_c, and gas_g vs oil_g."
   ]
  },
  {
   "cell_type": "markdown",
   "metadata": {},
   "source": [
    "We further visualized the correlation between columns of interest above in scatter plots. The plots also revealed that we only have one data point for year 2015 to 2018, we can consider exclude these years in the training dataset."
   ]
  },
  {
   "cell_type": "markdown",
   "metadata": {},
   "source": [
    "##### EDA Conclusion"
   ]
  },
  {
   "cell_type": "markdown",
   "metadata": {},
   "source": [
    "We have changed the data type to appropriate type and unified the units for each column. We visualized the distribution for all numeric columns and explore potential correlation between columns. We split df into train and test data set (8:2) For pipeline building, it will be beneficial to remove the year 2015 - 2017 because we only have one data point per year. "
   ]
  },
  {
   "cell_type": "markdown",
   "metadata": {},
   "source": [
    "#### Preprocessing"
   ]
  },
  {
   "cell_type": "markdown",
   "metadata": {},
   "source": [
    "Based on the nature of the data and the EDA results, the following assumption and preprocessing would be made\n",
    "- A **naive assumption** that there is no temporal dependency between observations (i.e. observations among years) is made. `year` would be removed to prevent the model from exploiting the temporal feature for future-looking. Temporal feature treatment, e.g. time series split and time series cross-validation, could be considered later\n",
    "- Scaling will be applied to all numeric features to standardize them to a common scale.\n",
    "- OneHotEncoding will be applied to the categorical feature `country`."
   ]
  },
  {
   "cell_type": "markdown",
   "metadata": {},
   "source": [
    "#### Model Training"
   ]
  },
  {
   "cell_type": "markdown",
   "metadata": {},
   "source": [
    "We used various regression models with $ \\text{R}^ 2 $ as the scoring metrics and carry out 10-fold cross-validation with each model to find the best performing models. Based on the validation results, the model using k-nearest neighbors (k-nn) \n",
    "algorithm is the best performing model with $ \\text{R}^ 2 $ of 0.949."
   ]
  },
  {
   "cell_type": "markdown",
   "metadata": {},
   "source": [
    "#### Hyperparameter Optimization"
   ]
  },
  {
   "cell_type": "markdown",
   "metadata": {},
   "source": [
    "The hyperparameter `n_neighbors` and `max_categories` was chosen using 10-fold cross validation with  $ \\text{R}^2 $ as the classification metric to improve the model performance. Based on the validation results, the KNN model has achieved a $ \\text{R}^2 $(`mean_test_r2`) of 0.975."
   ]
  },
  {
   "cell_type": "markdown",
   "metadata": {},
   "source": [
    "#### Test Results"
   ]
  },
  {
   "cell_type": "markdown",
   "metadata": {},
   "source": [
    "From the test data plot, we can see that we are under predicting few values. Our model has the accuracy of 97.5% with minimal prediction errors. Our prediction model performed quite well on test data, with a final overall $\\text{R}^2$ of 0.976, which is promising for predicting a country's CO2 emission per capita given the energy generation and consumption data. Our model has not less deviation from residual to the ground truth,as we have RMSE of 1.34 which is not too high for our models and it helps for reducing errors."
   ]
  },
  {
   "cell_type": "markdown",
   "metadata": {},
   "source": [
    "## Limitations and Future Direction"
   ]
  },
  {
   "cell_type": "markdown",
   "metadata": {},
   "source": [
    "To further improve this model in future with hopes of arriving one that could be used, there are several improvements we can suggest for later revision.As mentioned in Preprocessing, there could possibly be temporal dependency between observations and temporal treatments could be considered. In the EDA above, we discovered there are collinearity between `oil_c` and `elec_c`, `oil_g` and `gas_g`. Though it might not affect the predictive power of models, it harms the interpretation of the coefficients of linear models. Collinearity reduction treatment e.g. feature removal, dimension reduction technique, etc., could be considered. Assumed that co2_emission might be still in increasing trend in the future, KNN may not predict well beyond the range of values input in your training data. Other models with similar predictive power which can predict out-of-range input data could be considered."
   ]
  },
  {
   "cell_type": "markdown",
   "metadata": {},
   "source": [
    "# References"
   ]
  },
  {
   "cell_type": "markdown",
   "metadata": {},
   "source": [
    "Morice, C.P., J.J. Kennedy, N.A. Rayner, J.P. Winn, E. Hogan, R.E. Killick, R.J.H. Dunn, T.J. Osborn, P.D. Jones and I.R. Simpson (in press) An updated assessment of near-surface temperature change from 1850: the HadCRUT5 dataset. Journal of Geophysical Research (Atmospheres)\n",
    "\n",
    "Hannah Ritchie, Max Roser and Pablo Rosado (2020) - \"CO₂ and Greenhouse Gas Emissions\". Published online at OurWorldInData.org. Retrieved from: 'https://ourworldindata.org/co2-and-greenhouse-gas-emissions'\n",
    "\n",
    "IPCC, 2014: Climate Change 2014: Synthesis Report. Contribution of Working Groups I, II and III to the Fifth Assessment Report of the Intergovernmental \n",
    "Panel on Climate Change. IPCC, Geneva, Switzerland, 151 pp.\n",
    "\n",
    "IPCC, 2018: Global Warming of 1.5°C. An IPCC Special Report.\n",
    "\n",
    "International Energy Agency, 2018: World Energy Outlook 2018.\n"
   ]
  }
 ],
 "metadata": {
  "kernelspec": {
   "display_name": "Python [conda env:root] *",
   "language": "python",
   "name": "conda-root-py"
  },
  "language_info": {
   "codemirror_mode": {
    "name": "ipython",
    "version": 3
   },
   "file_extension": ".py",
   "mimetype": "text/x-python",
   "name": "python",
   "nbconvert_exporter": "python",
   "pygments_lexer": "ipython3",
   "version": "3.11.6"
  },
  "otter": {
   "OK_FORMAT": true,
   "tests": {
    "q10": {
     "name": "q10",
     "points": null,
     "suites": [
      {
       "cases": [
        {
         "code": ">>> assert area_co2 is not None, 'Your answer does not exist. Have you passed in the correct variable?'\n>>> assert isinstance(area_co2, alt.Chart), 'Your answer is not an altair Chart object. Check to make sure that you have assigned an alt.Chart object.'\n",
         "hidden": false,
         "locked": false,
         "points": 0
        }
       ],
       "scored": true,
       "setup": "",
       "teardown": "",
       "type": "doctest"
      }
     ]
    },
    "q11": {
     "name": "q11",
     "points": 5,
     "suites": [
      {
       "cases": [
        {
         "code": ">>> assert income_hist is not None, 'Your answer does not exist. Have you passed in the correct variable?'\n>>> assert isinstance(income_hist, alt.FacetChart), 'Your answer is not an altair Chart object. Check to make sure that you have assigned an alt.Chart object.'\n",
         "hidden": false,
         "locked": false,
         "points": 0
        }
       ],
       "scored": true,
       "setup": "",
       "teardown": "",
       "type": "doctest"
      }
     ]
    },
    "q12c": {
     "name": "q12c",
     "points": null,
     "suites": [
      {
       "cases": [
        {
         "code": ">>> assert scatter_lifeexp_familysize_styled is not None, 'Your answer does not exist. Have you passed in the correct variable?'\n>>> assert isinstance(scatter_lifeexp_familysize_styled, alt.Chart), 'Your answer is not an altair Chart object. Check to make sure that you have assigned an alt.Chart object.'\n",
         "hidden": false,
         "locked": false,
         "points": 0
        }
       ],
       "scored": true,
       "setup": "",
       "teardown": "",
       "type": "doctest"
      }
     ]
    },
    "q1w": {
     "name": "q1w",
     "points": 3,
     "suites": [
      {
       "cases": [
        {
         "code": ">>> assert scatter is not None\n",
         "failure_message": "Did you assign the plot to the correct variable?",
         "hidden": false,
         "locked": false,
         "points": 0
        },
        {
         "code": ">>> assert isinstance(scatter, alt.Chart)\n",
         "failure_message": "Your answer is not an altair Chart object.",
         "hidden": false,
         "locked": false,
         "points": 0
        },
        {
         "code": ">>> spec = scatter.copy()\n>>> with alt.data_transformers.enable('default'):\n...     spec['data'] = spec['data'][:1]\n...     spec = spec.to_dict()\n>>> assert spec['mark']['type'] == 'point'\n",
         "failure_message": "Make sure you are using the correct mark type.",
         "hidden": false,
         "locked": false
        },
        {
         "code": ">>> spec = scatter.copy()\n>>> with alt.data_transformers.enable('default'):\n...     spec['data'] = spec['data'][:1]\n...     spec = spec.to_dict()\n>>> assert spec['encoding']['x']['field'] == 'Weight_in_lbs'\n",
         "failure_message": "The wrong dataframe column is used for your chart's x channel.",
         "hidden": false,
         "locked": false
        },
        {
         "code": ">>> spec = scatter.copy()\n>>> with alt.data_transformers.enable('default'):\n...     spec['data'] = spec['data'][:1]\n...     spec = spec.to_dict()\n>>> assert spec['encoding']['x']['type'] == 'quantitative'\n",
         "failure_message": "The wrong data type is used for your chart's x channel.",
         "hidden": false,
         "locked": false
        },
        {
         "code": ">>> spec = scatter.copy()\n>>> with alt.data_transformers.enable('default'):\n...     spec['data'] = spec['data'][:1]\n...     spec = spec.to_dict()\n>>> assert spec['encoding']['y']['field'] == 'Horsepower'\n",
         "failure_message": "The wrong dataframe column is used for your chart's y channel.",
         "hidden": false,
         "locked": false
        },
        {
         "code": ">>> spec = scatter.copy()\n>>> with alt.data_transformers.enable('default'):\n...     spec['data'] = spec['data'][:1]\n...     spec = spec.to_dict()\n>>> assert spec['encoding']['y']['type'] == 'quantitative'\n",
         "failure_message": "The wrong data type is used for your chart's y channel.",
         "hidden": false,
         "locked": false
        },
        {
         "code": ">>> spec = scatter.copy()\n>>> with alt.data_transformers.enable('default'):\n...     spec['data'] = spec['data'][:1]\n...     spec = spec.to_dict()\n>>> assert spec['encoding']['color']['field'] == 'Origin'\n",
         "failure_message": "The wrong dataframe column is used for your chart's color channel.",
         "hidden": false,
         "locked": false
        },
        {
         "code": ">>> spec = scatter.copy()\n>>> with alt.data_transformers.enable('default'):\n...     spec['data'] = spec['data'][:1]\n...     spec = spec.to_dict()\n>>> assert spec['encoding']['color']['type'] == 'nominal'\n",
         "failure_message": "The wrong data type is used for your chart's color channel.",
         "hidden": false,
         "locked": false
        }
       ],
       "scored": true,
       "setup": "",
       "teardown": "",
       "type": "doctest"
      }
     ]
    },
    "q2w": {
     "name": "q2w",
     "points": 3,
     "suites": [
      {
       "cases": [
        {
         "code": ">>> assert price_lineplot is not None\n",
         "failure_message": "Did you assign the plot to the correct variable?",
         "hidden": false,
         "locked": false,
         "points": 0
        },
        {
         "code": ">>> assert isinstance(price_lineplot, alt.Chart)\n",
         "failure_message": "Your answer is not an altair Chart object.",
         "hidden": false,
         "locked": false,
         "points": 0
        },
        {
         "code": ">>> spec = price_lineplot.copy()\n>>> with alt.data_transformers.enable('default'):\n...     spec['data'] = spec['data'][:1]\n...     spec = spec.to_dict()\n>>> assert spec['mark']['type'] == 'line'\n",
         "failure_message": "Make sure you are using the correct mark type.",
         "hidden": false,
         "locked": false
        },
        {
         "code": ">>> spec = price_lineplot.copy()\n>>> with alt.data_transformers.enable('default'):\n...     spec['data'] = spec['data'][:1]\n...     spec = spec.to_dict()\n>>> assert spec['encoding']['x']['field'] == 'date'\n",
         "failure_message": "The wrong dataframe column is used for your chart's x channel.",
         "hidden": false,
         "locked": false
        },
        {
         "code": ">>> spec = price_lineplot.copy()\n>>> with alt.data_transformers.enable('default'):\n...     spec['data'] = spec['data'][:1]\n...     spec = spec.to_dict()\n>>> assert spec['encoding']['x']['type'] == 'temporal'\n",
         "failure_message": "The wrong data type is used for your chart's x channel.",
         "hidden": false,
         "locked": false
        },
        {
         "code": ">>> spec = price_lineplot.copy()\n>>> with alt.data_transformers.enable('default'):\n...     spec['data'] = spec['data'][:1]\n...     spec = spec.to_dict()\n>>> assert spec['encoding']['y']['field'] == 'price'\n",
         "failure_message": "The wrong dataframe column is used for your chart's y channel.",
         "hidden": false,
         "locked": false
        },
        {
         "code": ">>> spec = price_lineplot.copy()\n>>> with alt.data_transformers.enable('default'):\n...     spec['data'] = spec['data'][:1]\n...     spec = spec.to_dict()\n>>> assert spec['encoding']['y']['type'] == 'quantitative'\n",
         "failure_message": "The wrong data type is used for your chart's y channel.",
         "hidden": false,
         "locked": false
        },
        {
         "code": ">>> spec = price_lineplot.copy()\n>>> with alt.data_transformers.enable('default'):\n...     spec['data'] = spec['data'][:1]\n...     spec = spec.to_dict()\n>>> assert spec['encoding']['color']['field'] == 'symbol'\n",
         "failure_message": "The wrong dataframe column is used for your chart's color channel.",
         "hidden": false,
         "locked": false
        },
        {
         "code": ">>> spec = price_lineplot.copy()\n>>> with alt.data_transformers.enable('default'):\n...     spec['data'] = spec['data'][:1]\n...     spec = spec.to_dict()\n>>> assert spec['encoding']['color']['type'] == 'nominal'\n",
         "failure_message": "The wrong data type is used for your chart's color channel.",
         "hidden": false,
         "locked": false
        }
       ],
       "scored": true,
       "setup": "",
       "teardown": "",
       "type": "doctest"
      }
     ]
    },
    "q4": {
     "name": "q4",
     "points": null,
     "suites": [
      {
       "cases": [
        {
         "code": ">>> assert scatter_familysize_lifeexp is not None, 'Your answer does not exist. Have you passed in the correct variable?'\n>>> assert isinstance(scatter_familysize_lifeexp, alt.Chart), 'Your answer is not an altair Chart object. Check to make sure that you have assigned an alt.Chart object.'\n",
         "hidden": false,
         "locked": false,
         "points": 0
        }
       ],
       "scored": true,
       "setup": "",
       "teardown": "",
       "type": "doctest"
      }
     ]
    },
    "q5": {
     "name": "q5",
     "points": null,
     "suites": [
      {
       "cases": [
        {
         "code": ">>> assert line_points_education_ratio is not None, 'Your answer does not exist. Have you passed in the correct variable?'\n>>> assert isinstance(line_points_education_ratio, alt.LayerChart), 'Your answer is not a layered altair Chart object. Check to make sure that you have assigned an alt.Chart object.'\n",
         "hidden": false,
         "locked": false,
         "points": 0
        }
       ],
       "scored": true,
       "setup": "",
       "teardown": "",
       "type": "doctest"
      }
     ]
    },
    "q6c": {
     "name": "q6c",
     "points": null,
     "suites": [
      {
       "cases": [
        {
         "code": ">>> assert ci_bands_education_ratio is not None, 'Your answer does not exist. Have you passed in the correct variable?'\n>>> assert isinstance(ci_bands_education_ratio, alt.LayerChart), 'Your answer is not a layered altair Chart object. Check to make sure that you have assigned an alt.Chart object.'\n",
         "hidden": false,
         "locked": false,
         "points": 0
        }
       ],
       "scored": true,
       "setup": "",
       "teardown": "",
       "type": "doctest"
      }
     ]
    },
    "q7": {
     "name": "q7",
     "points": null,
     "suites": [
      {
       "cases": [
        {
         "code": ">>> assert scatter_familysize_mortality is not None, 'Your answer does not exist. Have you passed in the correct variable?'\n>>> assert type(scatter_familysize_mortality) == alt.FacetChart, 'Your answer is not an altair Facet Chart object. Check to make sure that you have assigned an alt.Chart object.'\n",
         "hidden": false,
         "locked": false,
         "points": 0
        }
       ],
       "scored": true,
       "setup": "",
       "teardown": "",
       "type": "doctest"
      }
     ]
    },
    "q9": {
     "name": "q9",
     "points": null,
     "suites": [
      {
       "cases": [
        {
         "code": ">>> assert bars_co2 is not None, 'Your answer does not exist. Have you passed in the correct variable?'\n>>> assert isinstance(bars_co2, alt.Chart), 'Your answer is not an altair Chart object. Check to make sure that you have assigned an alt.Chart object.'\n",
         "hidden": false,
         "locked": false,
         "points": 0
        }
       ],
       "scored": true,
       "setup": "",
       "teardown": "",
       "type": "doctest"
      }
     ]
    }
   }
  }
 },
 "nbformat": 4,
 "nbformat_minor": 4
}
