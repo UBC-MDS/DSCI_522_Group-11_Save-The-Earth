{
 "cells": [
  {
   "cell_type": "code",
   "execution_count": 1,
   "metadata": {
    "deletable": false,
    "editable": false
   },
   "outputs": [],
   "source": [
    "# Initialize packages\n",
    "import pandas as pd\n",
    "import altair as alt\n",
    "import numpy as np"
   ]
  },
  {
   "cell_type": "markdown",
   "metadata": {
    "tags": []
   },
   "source": [
    "# Project Background\n",
    "\n",
    "This project aims to build a model to use energy consumptions per capita to predict CO2 Emission per capita of a country."
   ]
  },
  {
   "cell_type": "markdown",
   "metadata": {
    "deletable": false,
    "editable": false
   },
   "source": [
    "<!-- BEGIN QUESTION -->\n",
    "\n",
    "<div class=\"alert alert-info\" style=\"color:black\">\n",
    "\n",
    "## Data Cleaning\n",
    "\n",
    "\n",
    "<p>The data cleaning part includes:</p>\n",
    "\n",
    "<ul>\n",
    "  <li>Importing Data.</li>\n",
    "    <ul>\n",
    "      <li><a href=\"https://www.gapminder.org/free-material/\">\n",
    "          FREE DATA FROM WORLD BANK VIA GAPMINDER.ORG.</a></li>\n",
    "    </ul>\n",
    "  <li>Data cleaning and data wrangling using <code>pandas</code> and <code>altair</code>.</li>\n",
    "</ul>\n",
    "</div>"
   ]
  },
  {
   "cell_type": "code",
   "execution_count": 32,
   "metadata": {},
   "outputs": [
    {
     "data": {
      "text/html": [
       "<div>\n",
       "<style scoped>\n",
       "    .dataframe tbody tr th:only-of-type {\n",
       "        vertical-align: middle;\n",
       "    }\n",
       "\n",
       "    .dataframe tbody tr th {\n",
       "        vertical-align: top;\n",
       "    }\n",
       "\n",
       "    .dataframe thead th {\n",
       "        text-align: right;\n",
       "    }\n",
       "</style>\n",
       "<table border=\"1\" class=\"dataframe\">\n",
       "  <thead>\n",
       "    <tr style=\"text-align: right;\">\n",
       "      <th></th>\n",
       "      <th>country</th>\n",
       "      <th>year</th>\n",
       "      <th>coal_c</th>\n",
       "    </tr>\n",
       "  </thead>\n",
       "  <tbody>\n",
       "    <tr>\n",
       "      <th>0</th>\n",
       "      <td>UAE</td>\n",
       "      <td>1965</td>\n",
       "      <td>0.0</td>\n",
       "    </tr>\n",
       "    <tr>\n",
       "      <th>1</th>\n",
       "      <td>Argentina</td>\n",
       "      <td>1965</td>\n",
       "      <td>0.0328</td>\n",
       "    </tr>\n",
       "    <tr>\n",
       "      <th>2</th>\n",
       "      <td>Australia</td>\n",
       "      <td>1965</td>\n",
       "      <td>1.54</td>\n",
       "    </tr>\n",
       "    <tr>\n",
       "      <th>3</th>\n",
       "      <td>Austria</td>\n",
       "      <td>1965</td>\n",
       "      <td>0.696</td>\n",
       "    </tr>\n",
       "    <tr>\n",
       "      <th>4</th>\n",
       "      <td>Azerbaijan</td>\n",
       "      <td>1965</td>\n",
       "      <td>NaN</td>\n",
       "    </tr>\n",
       "    <tr>\n",
       "      <th>...</th>\n",
       "      <td>...</td>\n",
       "      <td>...</td>\n",
       "      <td>...</td>\n",
       "    </tr>\n",
       "    <tr>\n",
       "      <th>4340</th>\n",
       "      <td>USA</td>\n",
       "      <td>2019</td>\n",
       "      <td>0.823</td>\n",
       "    </tr>\n",
       "    <tr>\n",
       "      <th>4341</th>\n",
       "      <td>Uzbekistan</td>\n",
       "      <td>2019</td>\n",
       "      <td>0.0526</td>\n",
       "    </tr>\n",
       "    <tr>\n",
       "      <th>4342</th>\n",
       "      <td>Venezuela</td>\n",
       "      <td>2019</td>\n",
       "      <td>0.00265</td>\n",
       "    </tr>\n",
       "    <tr>\n",
       "      <th>4343</th>\n",
       "      <td>Vietnam</td>\n",
       "      <td>2019</td>\n",
       "      <td>0.513</td>\n",
       "    </tr>\n",
       "    <tr>\n",
       "      <th>4344</th>\n",
       "      <td>South Africa</td>\n",
       "      <td>2019</td>\n",
       "      <td>1.56</td>\n",
       "    </tr>\n",
       "  </tbody>\n",
       "</table>\n",
       "<p>4345 rows × 3 columns</p>\n",
       "</div>"
      ],
      "text/plain": [
       "           country  year   coal_c\n",
       "0              UAE  1965      0.0\n",
       "1        Argentina  1965   0.0328\n",
       "2        Australia  1965     1.54\n",
       "3          Austria  1965    0.696\n",
       "4       Azerbaijan  1965      NaN\n",
       "...            ...   ...      ...\n",
       "4340           USA  2019    0.823\n",
       "4341    Uzbekistan  2019   0.0526\n",
       "4342     Venezuela  2019  0.00265\n",
       "4343       Vietnam  2019    0.513\n",
       "4344  South Africa  2019     1.56\n",
       "\n",
       "[4345 rows x 3 columns]"
      ]
     },
     "execution_count": 32,
     "metadata": {},
     "output_type": "execute_result"
    }
   ],
   "source": [
    "# read datasets and melt dataframe from wide table to long table\n",
    "# co2 emission per capita\n",
    "co2_e = pd.read_csv(\"Data/Raw/co2_emissions_tonnes_per_person.csv\").melt(id_vars='country', var_name='year', value_name='co2_e')\n",
    "# coal consumption per capita\n",
    "coal_c = pd.read_csv(\"Data/Raw/coal_consumption_per_cap.csv\").melt(id_vars='country', var_name='year', value_name='coal_c')\n",
    "# electricity generation per capita\n",
    "elec_g = pd.read_csv(\"Data/Raw/electricity_generation_per_person.csv\").melt(id_vars='country', var_name='year', value_name='elec_g')\n",
    "# electricity consumption per capita\n",
    "elec_c = pd.read_csv(\"Data/Raw/electricity_use_per_person.csv\").melt(id_vars='country', var_name='year', value_name='elec_c')\n",
    "# hydro generation per capita\n",
    "hydro_g = pd.read_csv(\"Data/Raw/hydro_power_generation_per_person.csv\").melt(id_vars='country', var_name='year', value_name='hydro_g')\n",
    "# nuclear generation per capita\n",
    "nuclear_g = pd.read_csv(\"Data/Raw/nuclear_power_generation_per_person.csv\").melt(id_vars='country', var_name='year', value_name='nuclear_g')\n",
    "# gas generation per capita\n",
    "gas_g = pd.read_csv(\"Data/Raw/natural_gas_production_per_person.csv\").melt(id_vars='country', var_name='year', value_name='gas_g')\n",
    "# oil consumption per capita\n",
    "oil_c = pd.read_csv(\"Data/Raw/oil_consumption_per_cap.csv\").melt(id_vars='country', var_name='year', value_name='oil_c')\n",
    "# oil generation per capita\n",
    "oil_g = pd.read_csv(\"Data/Raw/oil_production_per_person.csv\").melt(id_vars='country', var_name='year', value_name='oil_g')\n",
    "coal_c"
   ]
  },
  {
   "cell_type": "code",
   "execution_count": 34,
   "metadata": {},
   "outputs": [
    {
     "data": {
      "text/html": [
       "<div>\n",
       "<style scoped>\n",
       "    .dataframe tbody tr th:only-of-type {\n",
       "        vertical-align: middle;\n",
       "    }\n",
       "\n",
       "    .dataframe tbody tr th {\n",
       "        vertical-align: top;\n",
       "    }\n",
       "\n",
       "    .dataframe thead th {\n",
       "        text-align: right;\n",
       "    }\n",
       "</style>\n",
       "<table border=\"1\" class=\"dataframe\">\n",
       "  <thead>\n",
       "    <tr style=\"text-align: right;\">\n",
       "      <th></th>\n",
       "      <th>country</th>\n",
       "      <th>year</th>\n",
       "      <th>co2_e</th>\n",
       "      <th>coal_c</th>\n",
       "      <th>elec_g</th>\n",
       "      <th>elec_c</th>\n",
       "      <th>hydro_g</th>\n",
       "      <th>nuclear_g</th>\n",
       "      <th>gas_g</th>\n",
       "      <th>oil_c</th>\n",
       "      <th>oil_g</th>\n",
       "    </tr>\n",
       "  </thead>\n",
       "  <tbody>\n",
       "    <tr>\n",
       "      <th>0</th>\n",
       "      <td>Afghanistan</td>\n",
       "      <td>1800</td>\n",
       "      <td>NaN</td>\n",
       "      <td>NaN</td>\n",
       "      <td>NaN</td>\n",
       "      <td>NaN</td>\n",
       "      <td>NaN</td>\n",
       "      <td>NaN</td>\n",
       "      <td>NaN</td>\n",
       "      <td>NaN</td>\n",
       "      <td>NaN</td>\n",
       "    </tr>\n",
       "    <tr>\n",
       "      <th>1</th>\n",
       "      <td>Angola</td>\n",
       "      <td>1800</td>\n",
       "      <td>NaN</td>\n",
       "      <td>NaN</td>\n",
       "      <td>NaN</td>\n",
       "      <td>NaN</td>\n",
       "      <td>NaN</td>\n",
       "      <td>NaN</td>\n",
       "      <td>NaN</td>\n",
       "      <td>NaN</td>\n",
       "      <td>NaN</td>\n",
       "    </tr>\n",
       "    <tr>\n",
       "      <th>2</th>\n",
       "      <td>Albania</td>\n",
       "      <td>1800</td>\n",
       "      <td>NaN</td>\n",
       "      <td>NaN</td>\n",
       "      <td>NaN</td>\n",
       "      <td>NaN</td>\n",
       "      <td>NaN</td>\n",
       "      <td>NaN</td>\n",
       "      <td>NaN</td>\n",
       "      <td>NaN</td>\n",
       "      <td>NaN</td>\n",
       "    </tr>\n",
       "    <tr>\n",
       "      <th>3</th>\n",
       "      <td>Andorra</td>\n",
       "      <td>1800</td>\n",
       "      <td>NaN</td>\n",
       "      <td>NaN</td>\n",
       "      <td>NaN</td>\n",
       "      <td>NaN</td>\n",
       "      <td>NaN</td>\n",
       "      <td>NaN</td>\n",
       "      <td>NaN</td>\n",
       "      <td>NaN</td>\n",
       "      <td>NaN</td>\n",
       "    </tr>\n",
       "    <tr>\n",
       "      <th>4</th>\n",
       "      <td>UAE</td>\n",
       "      <td>1800</td>\n",
       "      <td>NaN</td>\n",
       "      <td>NaN</td>\n",
       "      <td>NaN</td>\n",
       "      <td>NaN</td>\n",
       "      <td>NaN</td>\n",
       "      <td>NaN</td>\n",
       "      <td>NaN</td>\n",
       "      <td>NaN</td>\n",
       "      <td>NaN</td>\n",
       "    </tr>\n",
       "    <tr>\n",
       "      <th>...</th>\n",
       "      <td>...</td>\n",
       "      <td>...</td>\n",
       "      <td>...</td>\n",
       "      <td>...</td>\n",
       "      <td>...</td>\n",
       "      <td>...</td>\n",
       "      <td>...</td>\n",
       "      <td>...</td>\n",
       "      <td>...</td>\n",
       "      <td>...</td>\n",
       "      <td>...</td>\n",
       "    </tr>\n",
       "    <tr>\n",
       "      <th>42803</th>\n",
       "      <td>Yemen</td>\n",
       "      <td>2019</td>\n",
       "      <td>NaN</td>\n",
       "      <td>NaN</td>\n",
       "      <td>NaN</td>\n",
       "      <td>NaN</td>\n",
       "      <td>NaN</td>\n",
       "      <td>NaN</td>\n",
       "      <td>0.017</td>\n",
       "      <td>NaN</td>\n",
       "      <td>0.145</td>\n",
       "    </tr>\n",
       "    <tr>\n",
       "      <th>42804</th>\n",
       "      <td>Zambia</td>\n",
       "      <td>2019</td>\n",
       "      <td>NaN</td>\n",
       "      <td>NaN</td>\n",
       "      <td>NaN</td>\n",
       "      <td>NaN</td>\n",
       "      <td>NaN</td>\n",
       "      <td>NaN</td>\n",
       "      <td>NaN</td>\n",
       "      <td>NaN</td>\n",
       "      <td>NaN</td>\n",
       "    </tr>\n",
       "    <tr>\n",
       "      <th>42805</th>\n",
       "      <td>Zimbabwe</td>\n",
       "      <td>2019</td>\n",
       "      <td>NaN</td>\n",
       "      <td>NaN</td>\n",
       "      <td>NaN</td>\n",
       "      <td>NaN</td>\n",
       "      <td>NaN</td>\n",
       "      <td>NaN</td>\n",
       "      <td>NaN</td>\n",
       "      <td>NaN</td>\n",
       "      <td>NaN</td>\n",
       "    </tr>\n",
       "    <tr>\n",
       "      <th>42806</th>\n",
       "      <td>Equatorial Guinea</td>\n",
       "      <td>2019</td>\n",
       "      <td>NaN</td>\n",
       "      <td>NaN</td>\n",
       "      <td>NaN</td>\n",
       "      <td>NaN</td>\n",
       "      <td>NaN</td>\n",
       "      <td>NaN</td>\n",
       "      <td>NaN</td>\n",
       "      <td>NaN</td>\n",
       "      <td>6.040</td>\n",
       "    </tr>\n",
       "    <tr>\n",
       "      <th>42807</th>\n",
       "      <td>Chad</td>\n",
       "      <td>2019</td>\n",
       "      <td>NaN</td>\n",
       "      <td>NaN</td>\n",
       "      <td>NaN</td>\n",
       "      <td>NaN</td>\n",
       "      <td>NaN</td>\n",
       "      <td>NaN</td>\n",
       "      <td>NaN</td>\n",
       "      <td>NaN</td>\n",
       "      <td>0.418</td>\n",
       "    </tr>\n",
       "  </tbody>\n",
       "</table>\n",
       "<p>42808 rows × 11 columns</p>\n",
       "</div>"
      ],
      "text/plain": [
       "                 country  year co2_e coal_c elec_g elec_c hydro_g nuclear_g  \\\n",
       "0            Afghanistan  1800   NaN    NaN    NaN    NaN     NaN       NaN   \n",
       "1                 Angola  1800   NaN    NaN    NaN    NaN     NaN       NaN   \n",
       "2                Albania  1800   NaN    NaN    NaN    NaN     NaN       NaN   \n",
       "3                Andorra  1800   NaN    NaN    NaN    NaN     NaN       NaN   \n",
       "4                    UAE  1800   NaN    NaN    NaN    NaN     NaN       NaN   \n",
       "...                  ...   ...   ...    ...    ...    ...     ...       ...   \n",
       "42803              Yemen  2019   NaN    NaN    NaN    NaN     NaN       NaN   \n",
       "42804             Zambia  2019   NaN    NaN    NaN    NaN     NaN       NaN   \n",
       "42805           Zimbabwe  2019   NaN    NaN    NaN    NaN     NaN       NaN   \n",
       "42806  Equatorial Guinea  2019   NaN    NaN    NaN    NaN     NaN       NaN   \n",
       "42807               Chad  2019   NaN    NaN    NaN    NaN     NaN       NaN   \n",
       "\n",
       "       gas_g  oil_c  oil_g  \n",
       "0        NaN    NaN    NaN  \n",
       "1        NaN    NaN    NaN  \n",
       "2        NaN    NaN    NaN  \n",
       "3        NaN    NaN    NaN  \n",
       "4        NaN    NaN    NaN  \n",
       "...      ...    ...    ...  \n",
       "42803  0.017    NaN  0.145  \n",
       "42804    NaN    NaN    NaN  \n",
       "42805    NaN    NaN    NaN  \n",
       "42806    NaN    NaN  6.040  \n",
       "42807    NaN    NaN  0.418  \n",
       "\n",
       "[42808 rows x 11 columns]"
      ]
     },
     "execution_count": 34,
     "metadata": {},
     "output_type": "execute_result"
    }
   ],
   "source": [
    "#merging data\n",
    "dataframes = [co2_e, coal_c, elec_g, elec_c, hydro_g, nuclear_g, gas_g, oil_c, oil_g]\n",
    "merged_df = co2_e\n",
    "for df in dataframes[1:]:\n",
    "    # Merge each DataFrame with the merged DataFrame\n",
    "    merged_df = pd.merge(merged_df, df, on=['country','year'], how ='outer')\n",
    "merged_df"
   ]
  },
  {
   "cell_type": "code",
   "execution_count": 53,
   "metadata": {},
   "outputs": [
    {
     "data": {
      "text/html": [
       "<div>\n",
       "<style scoped>\n",
       "    .dataframe tbody tr th:only-of-type {\n",
       "        vertical-align: middle;\n",
       "    }\n",
       "\n",
       "    .dataframe tbody tr th {\n",
       "        vertical-align: top;\n",
       "    }\n",
       "\n",
       "    .dataframe thead th {\n",
       "        text-align: right;\n",
       "    }\n",
       "</style>\n",
       "<table border=\"1\" class=\"dataframe\">\n",
       "  <thead>\n",
       "    <tr style=\"text-align: right;\">\n",
       "      <th></th>\n",
       "      <th>country</th>\n",
       "      <th>year</th>\n",
       "      <th>co2_e</th>\n",
       "      <th>coal_c</th>\n",
       "      <th>elec_g</th>\n",
       "      <th>elec_c</th>\n",
       "      <th>hydro_g</th>\n",
       "      <th>nuclear_g</th>\n",
       "      <th>gas_g</th>\n",
       "      <th>oil_c</th>\n",
       "      <th>oil_g</th>\n",
       "    </tr>\n",
       "  </thead>\n",
       "  <tbody>\n",
       "    <tr>\n",
       "      <th>0</th>\n",
       "      <td>Australia</td>\n",
       "      <td>1965</td>\n",
       "      <td>10.70</td>\n",
       "      <td>1.54</td>\n",
       "      <td>0</td>\n",
       "      <td>2630</td>\n",
       "      <td>0.0628</td>\n",
       "      <td>0</td>\n",
       "      <td>0.000</td>\n",
       "      <td>1.340</td>\n",
       "      <td>0.0306</td>\n",
       "    </tr>\n",
       "    <tr>\n",
       "      <th>1</th>\n",
       "      <td>Austria</td>\n",
       "      <td>1965</td>\n",
       "      <td>5.23</td>\n",
       "      <td>0.696</td>\n",
       "      <td>0</td>\n",
       "      <td>2310</td>\n",
       "      <td>0.186</td>\n",
       "      <td>0</td>\n",
       "      <td>0.000</td>\n",
       "      <td>0.761</td>\n",
       "      <td>0.0000</td>\n",
       "    </tr>\n",
       "    <tr>\n",
       "      <th>2</th>\n",
       "      <td>Belgium</td>\n",
       "      <td>1965</td>\n",
       "      <td>11.20</td>\n",
       "      <td>2.03</td>\n",
       "      <td>0</td>\n",
       "      <td>2160</td>\n",
       "      <td>0.00248</td>\n",
       "      <td>0</td>\n",
       "      <td>0.000</td>\n",
       "      <td>1.690</td>\n",
       "      <td>0.0000</td>\n",
       "    </tr>\n",
       "    <tr>\n",
       "      <th>3</th>\n",
       "      <td>Canada</td>\n",
       "      <td>1965</td>\n",
       "      <td>12.80</td>\n",
       "      <td>0.788</td>\n",
       "      <td>0</td>\n",
       "      <td>6910</td>\n",
       "      <td>0.516</td>\n",
       "      <td>0.00056</td>\n",
       "      <td>0.000</td>\n",
       "      <td>2.740</td>\n",
       "      <td>2.2400</td>\n",
       "    </tr>\n",
       "    <tr>\n",
       "      <th>4</th>\n",
       "      <td>Switzerland</td>\n",
       "      <td>1965</td>\n",
       "      <td>5.22</td>\n",
       "      <td>0.219</td>\n",
       "      <td>0</td>\n",
       "      <td>3590</td>\n",
       "      <td>0.364</td>\n",
       "      <td>0</td>\n",
       "      <td>0.000</td>\n",
       "      <td>1.380</td>\n",
       "      <td>0.0000</td>\n",
       "    </tr>\n",
       "    <tr>\n",
       "      <th>...</th>\n",
       "      <td>...</td>\n",
       "      <td>...</td>\n",
       "      <td>...</td>\n",
       "      <td>...</td>\n",
       "      <td>...</td>\n",
       "      <td>...</td>\n",
       "      <td>...</td>\n",
       "      <td>...</td>\n",
       "      <td>...</td>\n",
       "      <td>...</td>\n",
       "      <td>...</td>\n",
       "    </tr>\n",
       "    <tr>\n",
       "      <th>3340</th>\n",
       "      <td>South Africa</td>\n",
       "      <td>2014</td>\n",
       "      <td>8.86</td>\n",
       "      <td>1.64</td>\n",
       "      <td>4670</td>\n",
       "      <td>4180</td>\n",
       "      <td>0</td>\n",
       "      <td>0</td>\n",
       "      <td>0.000</td>\n",
       "      <td>0.485</td>\n",
       "      <td>0.0000</td>\n",
       "    </tr>\n",
       "    <tr>\n",
       "      <th>3341</th>\n",
       "      <td>Indonesia</td>\n",
       "      <td>2015</td>\n",
       "      <td>1.96</td>\n",
       "      <td>0.198</td>\n",
       "      <td>906</td>\n",
       "      <td>910.0</td>\n",
       "      <td>0</td>\n",
       "      <td>0</td>\n",
       "      <td>0.253</td>\n",
       "      <td>0.271</td>\n",
       "      <td>0.1570</td>\n",
       "    </tr>\n",
       "    <tr>\n",
       "      <th>3342</th>\n",
       "      <td>Indonesia</td>\n",
       "      <td>2016</td>\n",
       "      <td>2.15</td>\n",
       "      <td>0.204</td>\n",
       "      <td>948</td>\n",
       "      <td>956.0</td>\n",
       "      <td>0</td>\n",
       "      <td>0</td>\n",
       "      <td>0.247</td>\n",
       "      <td>0.269</td>\n",
       "      <td>0.1640</td>\n",
       "    </tr>\n",
       "    <tr>\n",
       "      <th>3343</th>\n",
       "      <td>Indonesia</td>\n",
       "      <td>2017</td>\n",
       "      <td>2.21</td>\n",
       "      <td>0.216</td>\n",
       "      <td>962</td>\n",
       "      <td>1020.0</td>\n",
       "      <td>0</td>\n",
       "      <td>0</td>\n",
       "      <td>0.236</td>\n",
       "      <td>0.280</td>\n",
       "      <td>0.1550</td>\n",
       "    </tr>\n",
       "    <tr>\n",
       "      <th>3344</th>\n",
       "      <td>Indonesia</td>\n",
       "      <td>2018</td>\n",
       "      <td>2.30</td>\n",
       "      <td>0.253</td>\n",
       "      <td>998</td>\n",
       "      <td>1060.0</td>\n",
       "      <td>0</td>\n",
       "      <td>0</td>\n",
       "      <td>0.234</td>\n",
       "      <td>0.288</td>\n",
       "      <td>0.1480</td>\n",
       "    </tr>\n",
       "  </tbody>\n",
       "</table>\n",
       "<p>3345 rows × 11 columns</p>\n",
       "</div>"
      ],
      "text/plain": [
       "           country  year  co2_e coal_c elec_g  elec_c  hydro_g nuclear_g  \\\n",
       "0        Australia  1965  10.70   1.54      0    2630   0.0628         0   \n",
       "1          Austria  1965   5.23  0.696      0    2310    0.186         0   \n",
       "2          Belgium  1965  11.20   2.03      0    2160  0.00248         0   \n",
       "3           Canada  1965  12.80  0.788      0    6910    0.516   0.00056   \n",
       "4      Switzerland  1965   5.22  0.219      0    3590    0.364         0   \n",
       "...            ...   ...    ...    ...    ...     ...      ...       ...   \n",
       "3340  South Africa  2014   8.86   1.64   4670    4180        0         0   \n",
       "3341     Indonesia  2015   1.96  0.198    906   910.0        0         0   \n",
       "3342     Indonesia  2016   2.15  0.204    948   956.0        0         0   \n",
       "3343     Indonesia  2017   2.21  0.216    962  1020.0        0         0   \n",
       "3344     Indonesia  2018   2.30  0.253    998  1060.0        0         0   \n",
       "\n",
       "      gas_g  oil_c   oil_g  \n",
       "0     0.000  1.340  0.0306  \n",
       "1     0.000  0.761  0.0000  \n",
       "2     0.000  1.690  0.0000  \n",
       "3     0.000  2.740  2.2400  \n",
       "4     0.000  1.380  0.0000  \n",
       "...     ...    ...     ...  \n",
       "3340  0.000  0.485  0.0000  \n",
       "3341  0.253  0.271  0.1570  \n",
       "3342  0.247  0.269  0.1640  \n",
       "3343  0.236  0.280  0.1550  \n",
       "3344  0.234  0.288  0.1480  \n",
       "\n",
       "[3345 rows x 11 columns]"
      ]
     },
     "execution_count": 53,
     "metadata": {},
     "output_type": "execute_result"
    }
   ],
   "source": [
    "#EDA to remove years and countries with too many NaN\n",
    "cleaned_df = merged_df.query('not co2_e.isna() and not coal_c.isna() and not elec_c.isna() and not oil_c.isna()')\n",
    "# remove rows that co2_e, coal_c, elec_c and oil_c do not have na value. But we think it's acceptable that elec_g, hydro_g, nuclear_g and gas_g have na value. \n",
    "# Filling NaN with 0.\n",
    "cleaned_df = cleaned_df.fillna(0)\n",
    "cleaned_df = cleaned_df.reset_index().drop(columns='index')\n",
    "cleaned_df"
   ]
  },
  {
   "cell_type": "code",
   "execution_count": 54,
   "metadata": {},
   "outputs": [],
   "source": [
    "# save dataframe\n",
    "cleaned_df.to_csv('Data/Processed/save_the_earth_processed_data.csv', index=True)"
   ]
  },
  {
   "cell_type": "markdown",
   "metadata": {},
   "source": [
    "<div class=\"alert alert-danger\" style=\"color:black\">\n",
    "    \n",
    "**Credential**\n",
    "    \n",
    "FREE DATA FROM WORLD BANK VIA GAPMINDER.ORG, CC-BY LICENSE\n",
    "</div>"
   ]
  }
 ],
 "metadata": {
  "kernelspec": {
   "display_name": "522",
   "language": "python",
   "name": "522"
  },
  "language_info": {
   "codemirror_mode": {
    "name": "ipython",
    "version": 3
   },
   "file_extension": ".py",
   "mimetype": "text/x-python",
   "name": "python",
   "nbconvert_exporter": "python",
   "pygments_lexer": "ipython3",
   "version": "3.11.6"
  },
  "otter": {
   "OK_FORMAT": true,
   "tests": {
    "q10": {
     "name": "q10",
     "points": null,
     "suites": [
      {
       "cases": [
        {
         "code": ">>> assert area_co2 is not None, 'Your answer does not exist. Have you passed in the correct variable?'\n>>> assert isinstance(area_co2, alt.Chart), 'Your answer is not an altair Chart object. Check to make sure that you have assigned an alt.Chart object.'\n",
         "hidden": false,
         "locked": false,
         "points": 0
        }
       ],
       "scored": true,
       "setup": "",
       "teardown": "",
       "type": "doctest"
      }
     ]
    },
    "q11": {
     "name": "q11",
     "points": 5,
     "suites": [
      {
       "cases": [
        {
         "code": ">>> assert income_hist is not None, 'Your answer does not exist. Have you passed in the correct variable?'\n>>> assert isinstance(income_hist, alt.FacetChart), 'Your answer is not an altair Chart object. Check to make sure that you have assigned an alt.Chart object.'\n",
         "hidden": false,
         "locked": false,
         "points": 0
        }
       ],
       "scored": true,
       "setup": "",
       "teardown": "",
       "type": "doctest"
      }
     ]
    },
    "q12c": {
     "name": "q12c",
     "points": null,
     "suites": [
      {
       "cases": [
        {
         "code": ">>> assert scatter_lifeexp_familysize_styled is not None, 'Your answer does not exist. Have you passed in the correct variable?'\n>>> assert isinstance(scatter_lifeexp_familysize_styled, alt.Chart), 'Your answer is not an altair Chart object. Check to make sure that you have assigned an alt.Chart object.'\n",
         "hidden": false,
         "locked": false,
         "points": 0
        }
       ],
       "scored": true,
       "setup": "",
       "teardown": "",
       "type": "doctest"
      }
     ]
    },
    "q1w": {
     "name": "q1w",
     "points": 3,
     "suites": [
      {
       "cases": [
        {
         "code": ">>> assert scatter is not None\n",
         "failure_message": "Did you assign the plot to the correct variable?",
         "hidden": false,
         "locked": false,
         "points": 0
        },
        {
         "code": ">>> assert isinstance(scatter, alt.Chart)\n",
         "failure_message": "Your answer is not an altair Chart object.",
         "hidden": false,
         "locked": false,
         "points": 0
        },
        {
         "code": ">>> spec = scatter.copy()\n>>> with alt.data_transformers.enable('default'):\n...     spec['data'] = spec['data'][:1]\n...     spec = spec.to_dict()\n>>> assert spec['mark']['type'] == 'point'\n",
         "failure_message": "Make sure you are using the correct mark type.",
         "hidden": false,
         "locked": false
        },
        {
         "code": ">>> spec = scatter.copy()\n>>> with alt.data_transformers.enable('default'):\n...     spec['data'] = spec['data'][:1]\n...     spec = spec.to_dict()\n>>> assert spec['encoding']['x']['field'] == 'Weight_in_lbs'\n",
         "failure_message": "The wrong dataframe column is used for your chart's x channel.",
         "hidden": false,
         "locked": false
        },
        {
         "code": ">>> spec = scatter.copy()\n>>> with alt.data_transformers.enable('default'):\n...     spec['data'] = spec['data'][:1]\n...     spec = spec.to_dict()\n>>> assert spec['encoding']['x']['type'] == 'quantitative'\n",
         "failure_message": "The wrong data type is used for your chart's x channel.",
         "hidden": false,
         "locked": false
        },
        {
         "code": ">>> spec = scatter.copy()\n>>> with alt.data_transformers.enable('default'):\n...     spec['data'] = spec['data'][:1]\n...     spec = spec.to_dict()\n>>> assert spec['encoding']['y']['field'] == 'Horsepower'\n",
         "failure_message": "The wrong dataframe column is used for your chart's y channel.",
         "hidden": false,
         "locked": false
        },
        {
         "code": ">>> spec = scatter.copy()\n>>> with alt.data_transformers.enable('default'):\n...     spec['data'] = spec['data'][:1]\n...     spec = spec.to_dict()\n>>> assert spec['encoding']['y']['type'] == 'quantitative'\n",
         "failure_message": "The wrong data type is used for your chart's y channel.",
         "hidden": false,
         "locked": false
        },
        {
         "code": ">>> spec = scatter.copy()\n>>> with alt.data_transformers.enable('default'):\n...     spec['data'] = spec['data'][:1]\n...     spec = spec.to_dict()\n>>> assert spec['encoding']['color']['field'] == 'Origin'\n",
         "failure_message": "The wrong dataframe column is used for your chart's color channel.",
         "hidden": false,
         "locked": false
        },
        {
         "code": ">>> spec = scatter.copy()\n>>> with alt.data_transformers.enable('default'):\n...     spec['data'] = spec['data'][:1]\n...     spec = spec.to_dict()\n>>> assert spec['encoding']['color']['type'] == 'nominal'\n",
         "failure_message": "The wrong data type is used for your chart's color channel.",
         "hidden": false,
         "locked": false
        }
       ],
       "scored": true,
       "setup": "",
       "teardown": "",
       "type": "doctest"
      }
     ]
    },
    "q2w": {
     "name": "q2w",
     "points": 3,
     "suites": [
      {
       "cases": [
        {
         "code": ">>> assert price_lineplot is not None\n",
         "failure_message": "Did you assign the plot to the correct variable?",
         "hidden": false,
         "locked": false,
         "points": 0
        },
        {
         "code": ">>> assert isinstance(price_lineplot, alt.Chart)\n",
         "failure_message": "Your answer is not an altair Chart object.",
         "hidden": false,
         "locked": false,
         "points": 0
        },
        {
         "code": ">>> spec = price_lineplot.copy()\n>>> with alt.data_transformers.enable('default'):\n...     spec['data'] = spec['data'][:1]\n...     spec = spec.to_dict()\n>>> assert spec['mark']['type'] == 'line'\n",
         "failure_message": "Make sure you are using the correct mark type.",
         "hidden": false,
         "locked": false
        },
        {
         "code": ">>> spec = price_lineplot.copy()\n>>> with alt.data_transformers.enable('default'):\n...     spec['data'] = spec['data'][:1]\n...     spec = spec.to_dict()\n>>> assert spec['encoding']['x']['field'] == 'date'\n",
         "failure_message": "The wrong dataframe column is used for your chart's x channel.",
         "hidden": false,
         "locked": false
        },
        {
         "code": ">>> spec = price_lineplot.copy()\n>>> with alt.data_transformers.enable('default'):\n...     spec['data'] = spec['data'][:1]\n...     spec = spec.to_dict()\n>>> assert spec['encoding']['x']['type'] == 'temporal'\n",
         "failure_message": "The wrong data type is used for your chart's x channel.",
         "hidden": false,
         "locked": false
        },
        {
         "code": ">>> spec = price_lineplot.copy()\n>>> with alt.data_transformers.enable('default'):\n...     spec['data'] = spec['data'][:1]\n...     spec = spec.to_dict()\n>>> assert spec['encoding']['y']['field'] == 'price'\n",
         "failure_message": "The wrong dataframe column is used for your chart's y channel.",
         "hidden": false,
         "locked": false
        },
        {
         "code": ">>> spec = price_lineplot.copy()\n>>> with alt.data_transformers.enable('default'):\n...     spec['data'] = spec['data'][:1]\n...     spec = spec.to_dict()\n>>> assert spec['encoding']['y']['type'] == 'quantitative'\n",
         "failure_message": "The wrong data type is used for your chart's y channel.",
         "hidden": false,
         "locked": false
        },
        {
         "code": ">>> spec = price_lineplot.copy()\n>>> with alt.data_transformers.enable('default'):\n...     spec['data'] = spec['data'][:1]\n...     spec = spec.to_dict()\n>>> assert spec['encoding']['color']['field'] == 'symbol'\n",
         "failure_message": "The wrong dataframe column is used for your chart's color channel.",
         "hidden": false,
         "locked": false
        },
        {
         "code": ">>> spec = price_lineplot.copy()\n>>> with alt.data_transformers.enable('default'):\n...     spec['data'] = spec['data'][:1]\n...     spec = spec.to_dict()\n>>> assert spec['encoding']['color']['type'] == 'nominal'\n",
         "failure_message": "The wrong data type is used for your chart's color channel.",
         "hidden": false,
         "locked": false
        }
       ],
       "scored": true,
       "setup": "",
       "teardown": "",
       "type": "doctest"
      }
     ]
    },
    "q4": {
     "name": "q4",
     "points": null,
     "suites": [
      {
       "cases": [
        {
         "code": ">>> assert scatter_familysize_lifeexp is not None, 'Your answer does not exist. Have you passed in the correct variable?'\n>>> assert isinstance(scatter_familysize_lifeexp, alt.Chart), 'Your answer is not an altair Chart object. Check to make sure that you have assigned an alt.Chart object.'\n",
         "hidden": false,
         "locked": false,
         "points": 0
        }
       ],
       "scored": true,
       "setup": "",
       "teardown": "",
       "type": "doctest"
      }
     ]
    },
    "q5": {
     "name": "q5",
     "points": null,
     "suites": [
      {
       "cases": [
        {
         "code": ">>> assert line_points_education_ratio is not None, 'Your answer does not exist. Have you passed in the correct variable?'\n>>> assert isinstance(line_points_education_ratio, alt.LayerChart), 'Your answer is not a layered altair Chart object. Check to make sure that you have assigned an alt.Chart object.'\n",
         "hidden": false,
         "locked": false,
         "points": 0
        }
       ],
       "scored": true,
       "setup": "",
       "teardown": "",
       "type": "doctest"
      }
     ]
    },
    "q6c": {
     "name": "q6c",
     "points": null,
     "suites": [
      {
       "cases": [
        {
         "code": ">>> assert ci_bands_education_ratio is not None, 'Your answer does not exist. Have you passed in the correct variable?'\n>>> assert isinstance(ci_bands_education_ratio, alt.LayerChart), 'Your answer is not a layered altair Chart object. Check to make sure that you have assigned an alt.Chart object.'\n",
         "hidden": false,
         "locked": false,
         "points": 0
        }
       ],
       "scored": true,
       "setup": "",
       "teardown": "",
       "type": "doctest"
      }
     ]
    },
    "q7": {
     "name": "q7",
     "points": null,
     "suites": [
      {
       "cases": [
        {
         "code": ">>> assert scatter_familysize_mortality is not None, 'Your answer does not exist. Have you passed in the correct variable?'\n>>> assert type(scatter_familysize_mortality) == alt.FacetChart, 'Your answer is not an altair Facet Chart object. Check to make sure that you have assigned an alt.Chart object.'\n",
         "hidden": false,
         "locked": false,
         "points": 0
        }
       ],
       "scored": true,
       "setup": "",
       "teardown": "",
       "type": "doctest"
      }
     ]
    },
    "q9": {
     "name": "q9",
     "points": null,
     "suites": [
      {
       "cases": [
        {
         "code": ">>> assert bars_co2 is not None, 'Your answer does not exist. Have you passed in the correct variable?'\n>>> assert isinstance(bars_co2, alt.Chart), 'Your answer is not an altair Chart object. Check to make sure that you have assigned an alt.Chart object.'\n",
         "hidden": false,
         "locked": false,
         "points": 0
        }
       ],
       "scored": true,
       "setup": "",
       "teardown": "",
       "type": "doctest"
      }
     ]
    }
   }
  }
 },
 "nbformat": 4,
 "nbformat_minor": 4
}
